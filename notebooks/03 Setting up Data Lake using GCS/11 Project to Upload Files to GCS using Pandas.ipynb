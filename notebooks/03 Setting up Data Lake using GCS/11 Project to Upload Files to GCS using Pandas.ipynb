{
 "cells": [
  {
   "cell_type": "code",
   "execution_count": null,
   "metadata": {},
   "outputs": [],
   "source": [
    "!gsutil rm -r gs://stage-nelson/retail_db_parquet"
   ]
  },
  {
   "cell_type": "code",
   "execution_count": null,
   "metadata": {},
   "outputs": [],
   "source": [
    "!gsutil ls gs://stage-nelson/"
   ]
  },
  {
   "cell_type": "code",
   "execution_count": 34,
   "metadata": {},
   "outputs": [],
   "source": [
    "import glob\n",
    "import os"
   ]
  },
  {
   "cell_type": "code",
   "execution_count": 35,
   "metadata": {},
   "outputs": [],
   "source": [
    "def get_file_names(src_base_dir):\n",
    "    items = glob.glob(f'{src_base_dir}/**', recursive=True)\n",
    "    return list(filter(lambda item: os.path.isfile(item) and item.endswith('part-00000'), items))\n"
   ]
  },
  {
   "cell_type": "code",
   "execution_count": 36,
   "metadata": {},
   "outputs": [],
   "source": [
    "src_base_dir = '../../data/retail_db'"
   ]
  },
  {
   "cell_type": "code",
   "execution_count": null,
   "metadata": {},
   "outputs": [],
   "source": [
    "get_file_names(src_base_dir)"
   ]
  },
  {
   "cell_type": "code",
   "execution_count": 38,
   "metadata": {},
   "outputs": [],
   "source": [
    "import json"
   ]
  },
  {
   "cell_type": "code",
   "execution_count": null,
   "metadata": {},
   "outputs": [],
   "source": [
    "schemas = json.load(open('../../data/retail_db/schemas.json'))\n",
    "schemas"
   ]
  },
  {
   "cell_type": "code",
   "execution_count": null,
   "metadata": {},
   "outputs": [],
   "source": [
    "schemas['orders']"
   ]
  },
  {
   "cell_type": "code",
   "execution_count": null,
   "metadata": {},
   "outputs": [],
   "source": [
    "sorted(schemas['orders'], key=lambda col: col['column_position'])"
   ]
  },
  {
   "cell_type": "code",
   "execution_count": null,
   "metadata": {},
   "outputs": [],
   "source": [
    "ds_schema = sorted(schemas['orders'], key=lambda col: col['column_position'])\n",
    "ds_schema"
   ]
  },
  {
   "cell_type": "code",
   "execution_count": null,
   "metadata": {},
   "outputs": [],
   "source": [
    "[col['column_name'] for col in ds_schema]"
   ]
  },
  {
   "cell_type": "code",
   "execution_count": 44,
   "metadata": {},
   "outputs": [],
   "source": [
    "def get_column_names(schemas_file, ds_name):\n",
    "    schemas = json.load(open(schemas_file))\n",
    "    ds_schema = sorted(schemas[ds_name], key=lambda col: col['column_position'])\n",
    "    columns = [col['column_name'] for col in ds_schema]\n",
    "    return columns"
   ]
  },
  {
   "cell_type": "code",
   "execution_count": null,
   "metadata": {},
   "outputs": [],
   "source": [
    "get_column_names('../../data/retail_db/schemas.json', 'orders')"
   ]
  },
  {
   "cell_type": "code",
   "execution_count": null,
   "metadata": {},
   "outputs": [],
   "source": [
    "for ds in [\n",
    "    'departments', 'categories', 'products',\n",
    "    'customers', 'orders', 'order_items'\n",
    "]:\n",
    "    column_names = get_column_names('../../data/retail_db/schemas.json', ds)\n",
    "    print(f'''columns for {ds} are {','.join(column_names)}''')"
   ]
  },
  {
   "cell_type": "code",
   "execution_count": 47,
   "metadata": {},
   "outputs": [],
   "source": [
    "import pandas as pd"
   ]
  },
  {
   "cell_type": "code",
   "execution_count": 48,
   "metadata": {},
   "outputs": [],
   "source": [
    "src_base_dir = '../../data/retail_db'\n",
    "schemas_file = '../../data/retail_db/schemas.json'\n",
    "bucket = 'stage-nelson'\n",
    "files = get_file_names(src_base_dir)"
   ]
  },
  {
   "cell_type": "code",
   "execution_count": null,
   "metadata": {},
   "outputs": [],
   "source": [
    "file = files[0]\n",
    "file"
   ]
  },
  {
   "cell_type": "code",
   "execution_count": null,
   "metadata": {},
   "outputs": [],
   "source": [
    "'/'.join(file.split('/')[-2:])"
   ]
  },
  {
   "cell_type": "code",
   "execution_count": null,
   "metadata": {},
   "outputs": [],
   "source": [
    "ds_name = file.split('/')\n",
    "ds_name"
   ]
  },
  {
   "cell_type": "code",
   "execution_count": null,
   "metadata": {},
   "outputs": [],
   "source": [
    "columns = get_column_names(schemas_file, ds_name)\n",
    "columns"
   ]
  },
  {
   "cell_type": "code",
   "execution_count": null,
   "metadata": {},
   "outputs": [],
   "source": [
    "src_base_dir = '../../data/retail_db'\n",
    "tgt_base_dir = 'retail_db_parquet'\n",
    "schemas_file = '../../data/retail_db/schemas.json'\n",
    "bucket = 'stage-nelson'\n",
    "files = get_file_names(src_base_dir)\n",
    "for file in files:\n",
    "    print(f'Uploading file {file}')\n",
    "    blob_suffix = '/'.join(file.split('/')[-2:])\n",
    "    ds_name = file.split('/')[-2]\n",
    "    blob_name = f'gs://{bucket}/{tgt_base_dir}/{blob_suffix}.snappy.parquet'\n",
    "    columns = get_column_names(schemas_file, ds_name)\n",
    "    df = pd.read_csv(file, names=columns)\n",
    "    df.to_parquet(blob_name, index=False)"
   ]
  },
  {
   "cell_type": "code",
   "execution_count": null,
   "metadata": {},
   "outputs": [],
   "source": [
    "!gsutil ls -r gs://stage-nelson/retail_db_parquet"
   ]
  },
  {
   "cell_type": "code",
   "execution_count": null,
   "metadata": {},
   "outputs": [],
   "source": [
    "pd.read_csv('../../data/retail_db/orders/part-00000', header=None)"
   ]
  },
  {
   "cell_type": "code",
   "execution_count": null,
   "metadata": {},
   "outputs": [],
   "source": [
    "pd.read_parquet('gs://stage-nelson/retail_db_parquet/orders/part-00000.snappy.parquet')"
   ]
  },
  {
   "cell_type": "code",
   "execution_count": null,
   "metadata": {},
   "outputs": [],
   "source": [
    "for ds in [\n",
    "    'departments', 'categories', 'products',\n",
    "    'customers', 'orders', 'order_items'\n",
    "]:\n",
    "    df = pd.read_csv(f'../../data/retail_db/{ds}/part-00000', header=None)\n",
    "    print(f'''Shape of {ds} in local files system is {df.shape}''')"
   ]
  },
  {
   "cell_type": "code",
   "execution_count": null,
   "metadata": {},
   "outputs": [],
   "source": [
    "for ds in [\n",
    "    'departments', 'categories', 'products',\n",
    "    'customers', 'orders', 'order_items'\n",
    "]:\n",
    "    df = pd.read_parquet(f'gs://{bucket}/{tgt_base_dir}/{ds}/part-00000.snappy.parquet')\n",
    "    print(f'''Shape of {ds} in gcs is {df.shape}''')"
   ]
  },
  {
   "cell_type": "code",
   "execution_count": null,
   "metadata": {},
   "outputs": [],
   "source": []
  }
 ],
 "metadata": {
  "kernelspec": {
   "display_name": "Python 3.9.12 ('deg-venv': venv)",
   "language": "python",
   "name": "python3"
  },
  "language_info": {
   "codemirror_mode": {
    "name": "ipython",
    "version": 3
   },
   "file_extension": ".py",
   "mimetype": "text/x-python",
   "name": "python",
   "nbconvert_exporter": "python",
   "pygments_lexer": "ipython3",
   "version": "3.12.2"
  },
  "orig_nbformat": 4,
  "vscode": {
   "interpreter": {
    "hash": "4a9d607f6995d470a72ac62c14cbba774ae3a8ede2bb7bb3a284130b245adccf"
   }
  }
 },
 "nbformat": 4,
 "nbformat_minor": 2
}
